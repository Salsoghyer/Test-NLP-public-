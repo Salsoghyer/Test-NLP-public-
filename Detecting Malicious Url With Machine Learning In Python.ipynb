{
 "cells": [
  {
   "cell_type": "code",
   "execution_count": 67,
   "source": [
    "import pandas as pd\r\n",
    "import numpy as np\r\n",
    "import random\r\n",
    "\r\n",
    "# Machine Learning Packages\r\n",
    "from sklearn.feature_extraction.text import TfidfVectorizer #Convert a collection of raw documents to a matrix of TF-IDF features.\r\n",
    "from sklearn.linear_model import LogisticRegression\r\n",
    "from sklearn.ensemble import RandomForestClassifier\r\n",
    "from sklearn.metrics import accuracy_score # for Random forest\r\n",
    "from sklearn.model_selection import train_test_split"
   ],
   "outputs": [],
   "metadata": {}
  },
  {
   "cell_type": "code",
   "execution_count": 68,
   "source": [
    "# Load Url Data \r\n",
    "urls_data = pd.read_csv(\"urldata.csv\")\r\n",
    "urls_data.head()# return top n (5 by default) rows of a data frame"
   ],
   "outputs": [
    {
     "output_type": "execute_result",
     "data": {
      "text/plain": [
       "                      url label\n",
       "0  diaryofagameaddict.com   bad\n",
       "1        espdesign.com.au   bad\n",
       "2      iamagameaddict.com   bad\n",
       "3           kalantzis.net   bad\n",
       "4   slightlyoffcenter.net   bad"
      ],
      "text/html": [
       "<div>\n",
       "<style scoped>\n",
       "    .dataframe tbody tr th:only-of-type {\n",
       "        vertical-align: middle;\n",
       "    }\n",
       "\n",
       "    .dataframe tbody tr th {\n",
       "        vertical-align: top;\n",
       "    }\n",
       "\n",
       "    .dataframe thead th {\n",
       "        text-align: right;\n",
       "    }\n",
       "</style>\n",
       "<table border=\"1\" class=\"dataframe\">\n",
       "  <thead>\n",
       "    <tr style=\"text-align: right;\">\n",
       "      <th></th>\n",
       "      <th>url</th>\n",
       "      <th>label</th>\n",
       "    </tr>\n",
       "  </thead>\n",
       "  <tbody>\n",
       "    <tr>\n",
       "      <th>0</th>\n",
       "      <td>diaryofagameaddict.com</td>\n",
       "      <td>bad</td>\n",
       "    </tr>\n",
       "    <tr>\n",
       "      <th>1</th>\n",
       "      <td>espdesign.com.au</td>\n",
       "      <td>bad</td>\n",
       "    </tr>\n",
       "    <tr>\n",
       "      <th>2</th>\n",
       "      <td>iamagameaddict.com</td>\n",
       "      <td>bad</td>\n",
       "    </tr>\n",
       "    <tr>\n",
       "      <th>3</th>\n",
       "      <td>kalantzis.net</td>\n",
       "      <td>bad</td>\n",
       "    </tr>\n",
       "    <tr>\n",
       "      <th>4</th>\n",
       "      <td>slightlyoffcenter.net</td>\n",
       "      <td>bad</td>\n",
       "    </tr>\n",
       "  </tbody>\n",
       "</table>\n",
       "</div>"
      ]
     },
     "metadata": {},
     "execution_count": 68
    }
   ],
   "metadata": {}
  },
  {
   "cell_type": "markdown",
   "source": [
    "### Data Vectorization Using TfidVectorizer\n",
    "#### Create A tokenizer\n",
    " + Split ,Remove Repetitions and \"Com\""
   ],
   "metadata": {}
  },
  {
   "cell_type": "code",
   "execution_count": 69,
   "source": [
    "def makeTokens(f):\r\n",
    "    tkns_BySlash = str(f.encode('utf-8')).split('/')\t# make tokens after splitting by slash\r\n",
    "    total_Tokens = []\r\n",
    "    for i in tkns_BySlash:\r\n",
    "        tokens = str(i).split('-')\t# make tokens after splitting by dash\r\n",
    "        tkns_ByDot = []\r\n",
    "        for j in range(0,len(tokens)):\r\n",
    "            temp_Tokens = str(tokens[j]).split('.')\t# make tokens after splitting by dot\r\n",
    "            tkns_ByDot = tkns_ByDot + temp_Tokens\r\n",
    "        total_Tokens = total_Tokens + tokens + tkns_ByDot\r\n",
    "    total_Tokens = list(set(total_Tokens))\t#remove redundant tokens\r\n",
    "    if 'com' in total_Tokens:\r\n",
    "        total_Tokens.remove('com')\t#removing .com since it occurs a lot of times and it should not be included in our features\r\n",
    "    return total_Tokens"
   ],
   "outputs": [],
   "metadata": {}
  },
  {
   "cell_type": "code",
   "execution_count": 70,
   "source": [
    "# Labels\r\n",
    "y = urls_data[\"label\"]\r\n",
    "# Features\r\n",
    "url_list = urls_data[\"url\"]"
   ],
   "outputs": [],
   "metadata": {}
  },
  {
   "cell_type": "code",
   "execution_count": 71,
   "source": [
    "# Using Default Tokenizer\r\n",
    "#TfidfVectorizer is to Convert a collection of raw documents to a matrix of TF-IDF features. (TFIDF: -weighting factor- is a numerical statistic that reflect how important a word is to a document )\r\n",
    "\r\n",
    "# Using Custom Tokenizer\r\n",
    "vectorizer = TfidfVectorizer(tokenizer=makeTokens)"
   ],
   "outputs": [],
   "metadata": {}
  },
  {
   "cell_type": "code",
   "execution_count": 72,
   "source": [
    "# Store vectors into X variable as Our XFeatures\r\n",
    "X = vectorizer.fit_transform(url_list) #fit_transform(raw_documents[, y]) Learn the vocabulary dictionary and return document-term matrix."
   ],
   "outputs": [],
   "metadata": {}
  },
  {
   "cell_type": "markdown",
   "source": [
    "#### Split into training and testing dataset 80/20 ratio"
   ],
   "metadata": {}
  },
  {
   "cell_type": "code",
   "execution_count": 73,
   "source": [
    "X_train, X_test, y_train, y_test = train_test_split(X, y, test_size=0.20, random_state=42)\t#train_test_split() Split arrays or matrices into random train and test subsets"
   ],
   "outputs": [],
   "metadata": {}
  },
  {
   "cell_type": "markdown",
   "source": [
    "Model building"
   ],
   "metadata": {}
  },
  {
   "cell_type": "code",
   "execution_count": 81,
   "source": [
    "# Model Building using logistic regression\r\n",
    "logit = LogisticRegression(max_iter=1000)\t\r\n",
    "logit.fit(X_train, y_train)\r\n"
   ],
   "outputs": [
    {
     "output_type": "execute_result",
     "data": {
      "text/plain": [
       "LogisticRegression(max_iter=1000)"
      ]
     },
     "metadata": {},
     "execution_count": 81
    }
   ],
   "metadata": {}
  },
  {
   "cell_type": "code",
   "execution_count": 75,
   "source": [
    "# Model Building using Random Forest\r\n",
    "#model= RandomForestClassifier()\r\n",
    "#model.fit(X_train, y_train)"
   ],
   "outputs": [],
   "metadata": {}
  },
  {
   "cell_type": "code",
   "execution_count": 76,
   "source": [
    "# Accuracy of logistic regression Model\r\n",
    "print(\"Accuracy in logistic regression Model: \",logit.score(X_test, y_test))"
   ],
   "outputs": [
    {
     "output_type": "stream",
     "name": "stdout",
     "text": [
      "Accuracy in logistic regression Model:  0.96161392743748\n"
     ]
    }
   ],
   "metadata": {}
  },
  {
   "cell_type": "code",
   "execution_count": 77,
   "source": [
    "# Accuracy of Random Forest Model\r\n",
    "#make predections\r\n",
    "#yhat = model.predict(X_test)\r\n",
    "#Evaluate predections\r\n",
    "#print(\"Accuracy in Random Forest Model: \",accuracy_score(y_test,yhat))"
   ],
   "outputs": [],
   "metadata": {}
  },
  {
   "cell_type": "markdown",
   "source": [
    "### Predicting the Model"
   ],
   "metadata": {}
  },
  {
   "cell_type": "code",
   "execution_count": 78,
   "source": [
    "# The following are new phishing websites, 2021 https://db.aa419.org/fakebankslist.php\r\n",
    "X_predict = [\"https://www.kacst.edu.sa/\",\"https://www.hightimesweedshop.com\",\r\n",
    "\"www.greenlifepharmcacy.com\",\r\n",
    "\"www.atfbinc.com\"]"
   ],
   "outputs": [],
   "metadata": {}
  },
  {
   "cell_type": "code",
   "execution_count": 79,
   "source": [
    "X_predict = vectorizer.transform(X_predict)\r\n",
    "New_predict = logit.predict(X_predict)\r\n",
    "print(New_predict)"
   ],
   "outputs": [
    {
     "output_type": "stream",
     "name": "stdout",
     "text": [
      "['good' 'bad' 'bad' 'bad']\n"
     ]
    }
   ],
   "metadata": {}
  },
  {
   "cell_type": "code",
   "execution_count": 80,
   "source": [
    "# Thanks to @ JCharisTech"
   ],
   "outputs": [],
   "metadata": {}
  }
 ],
 "metadata": {
  "kernelspec": {
   "name": "python3",
   "display_name": "Python 3.9.6 64-bit (windows store)"
  },
  "language_info": {
   "codemirror_mode": {
    "name": "ipython",
    "version": 3
   },
   "file_extension": ".py",
   "mimetype": "text/x-python",
   "name": "python",
   "nbconvert_exporter": "python",
   "pygments_lexer": "ipython3",
   "version": "3.9.6"
  },
  "interpreter": {
   "hash": "1d1faa0ad9d0f296fdd27a58686c7cb49c593e0a8538ae385fc5329317f9b226"
  }
 },
 "nbformat": 4,
 "nbformat_minor": 2
}