{
 "metadata": {
  "language_info": {
   "codemirror_mode": {
    "name": "ipython",
    "version": 3
   },
   "file_extension": ".py",
   "mimetype": "text/x-python",
   "name": "python",
   "nbconvert_exporter": "python",
   "pygments_lexer": "ipython3",
   "version": "3.9.6"
  },
  "orig_nbformat": 2,
  "kernelspec": {
   "name": "python3",
   "display_name": "Python 3.9.6 64-bit (windows store)"
  },
  "interpreter": {
   "hash": "1d1faa0ad9d0f296fdd27a58686c7cb49c593e0a8538ae385fc5329317f9b226"
  }
 },
 "nbformat": 4,
 "nbformat_minor": 2,
 "cells": [
  {
   "cell_type": "code",
   "execution_count": null,
   "source": [
    "# Python program to take\r\n",
    "# screenshots\r\n",
    "\r\n",
    "\r\n",
    "import numpy as np\r\n",
    "import cv2\r\n",
    "import pyautogui\r\n",
    "\r\n",
    "\r\n",
    "# take screenshot using pyautogui\r\n",
    "image = pyautogui.screenshot()\r\n",
    "\r\n",
    "# since the pyautogui takes as a\r\n",
    "# PIL(pillow) and in RGB we need to\r\n",
    "# convert it to numpy array and BGR\r\n",
    "# so we can write it to the disk\r\n",
    "image = cv2.cvtColor(np.array(image),\r\n",
    "\t\t\t\t\tcv2.COLOR_RGB2BGR)\r\n",
    "\r\n",
    "# writing it to the disk using opencv\r\n",
    "cv2.imwrite(\"image2.png\", image)\r\n"
   ],
   "outputs": [],
   "metadata": {}
  }
 ]
}